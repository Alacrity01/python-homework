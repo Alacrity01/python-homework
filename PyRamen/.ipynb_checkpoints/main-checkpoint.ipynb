{
 "cells": [
  {
   "cell_type": "code",
   "execution_count": null,
   "id": "06026dcd-8f84-4817-b70c-a51baf76027e",
   "metadata": {
    "tags": []
   },
   "outputs": [],
   "source": [
    "# the import statements below this comment\n",
    "# import csv # leaving this commented out--not currently in use but code should be refactored to use csv library\n",
    "from pathlib import Path"
   ]
  },
  {
   "cell_type": "code",
   "execution_count": null,
   "id": "ff4c50d4-54a2-40bb-a1ca-f8749230410e",
   "metadata": {},
   "outputs": [],
   "source": [
    "# access menu_data.csv, save first items as header list (for testing), and move to second row\n",
    "menu_path = Path(\"Resources/menu_data.csv\")\n",
    "open_menu = open(menu_path, 'r')\n",
    "for line in open_menu:\n",
    "\theader = line.strip()\n",
    "\tbreak # ends loop, getting only the first row\n",
    "menu_keys = header.split(\",\")\n",
    "next(open_menu)"
   ]
  },
  {
   "cell_type": "code",
   "execution_count": null,
   "id": "fcd6470d-463d-4377-964c-e91711650565",
   "metadata": {},
   "outputs": [],
   "source": [
    "# initialize menu list\n",
    "menu = []\n",
    "\n",
    "# populate menu list with data from Resources/menu_data.csv\n",
    "with open_menu as file:\n",
    "\tfor line in file:\t\t\n",
    "\t\trow = line.strip()\n",
    "\t\trow = line.strip().split(',')\n",
    "        \n",
    "        # this will get item, category, price, and cost and omit description; description includes commas and is messy when split by comma delimiter \n",
    "\t\titem_details = [row[0], row[1],row[-2],row[-1]] \n",
    "\n",
    "\t\tmenu.append(item_details)"
   ]
  },
  {
   "cell_type": "code",
   "execution_count": null,
   "id": "3e373960-b260-4f35-aba1-15a8359dab70",
   "metadata": {},
   "outputs": [],
   "source": [
    "# access sales_data.csv, save first items as header list (for testing), and move to second row\n",
    "sales_path = Path(\"Resources/sales_data.csv\")\n",
    "open_sales = open(sales_path, 'r')\n",
    "for line in open_sales:\n",
    "\theader = line.strip()\n",
    "\tbreak # ends loop, getting only the first row\n",
    "sales_keys = header.split(\",\")\n",
    "next(open_sales)"
   ]
  },
  {
   "cell_type": "code",
   "execution_count": null,
   "id": "a7c2e194-dd45-4fb0-a244-88b533179d5c",
   "metadata": {},
   "outputs": [],
   "source": [
    "# initialize sales list\n",
    "sales = []\n",
    "\n",
    "# populate sales list with item and quantity from Resources/sales_data.csv\n",
    "with open_sales as file:\n",
    "\tfor line in file:\t\t\n",
    "\t\trow = line.strip().split(\",\")\n",
    "\t\tsales.append([row[-1],row[-2]]) # [sales_item,quantity]"
   ]
  },
  {
   "cell_type": "code",
   "execution_count": null,
   "id": "e823199c-3bb5-4e46-92c2-89045fbc4f07",
   "metadata": {},
   "outputs": [],
   "source": [
    "# initialize and instantiate the report dictionary\n",
    "report = {}\n",
    "\n",
    "for sales_row in sales:\n",
    "\tsales_item = sales_row[0]\n",
    "\tif sales_item in report:\n",
    "\t\tcontinue\n",
    "\telse:\n",
    "\t\treport[sales_item] = {\n",
    "\t\t\"01-count\": 0,\n",
    "\t\t\"02-revenue\": 0,\n",
    "\t\t\"03-cogs\": 0,\n",
    "\t\t\"04-profit\": 0,\n",
    "    \t}"
   ]
  },
  {
   "cell_type": "code",
   "execution_count": null,
   "id": "bef1baca-0ab4-4773-9b5f-e2081e2aa35d",
   "metadata": {},
   "outputs": [],
   "source": [
    "# check for sales of each menu item and add to corresponding dictionary accumulator\n",
    "for menu_row in menu:\n",
    "\titem = menu_row[0]\n",
    "\t\n",
    "\tfor sales_row in sales:\n",
    "\t\tsales_item = sales_row[0]\t\n",
    "\t\tif item == sales_item:\n",
    "\t\t\tprice = float(menu_row[-2])\n",
    "\t\t\tcost = float(menu_row[-1])\n",
    "\t\t\tquantity = int(sales_row[1])\n",
    "\t\t\tprofit = price - cost\n",
    "\n",
    "\t\t\treport[sales_item][\"01-count\"] += quantity\n",
    "\t\t\treport[sales_item][\"02-revenue\"] += price * quantity\n",
    "\t\t\treport[sales_item][\"03-cogs\"] += cost * quantity\n",
    "\t\t\treport[sales_item][\"04-profit\"] += profit * quantity\n",
    "\telse:\n",
    "\t\t# print(f\"{sales_item} does not equal {item}! NO MATCH!\")\n",
    "\t\tcontinue"
   ]
  },
  {
   "cell_type": "code",
   "execution_count": null,
   "id": "a9a71746-7835-4049-a860-4f9695abf11d",
   "metadata": {},
   "outputs": [],
   "source": [
    "# create a string of text from the report dictionary\n",
    "report_text = \"\"\n",
    "for a in report:\n",
    "\treport_text += str(f\"{a} {report[a]}\\n\")"
   ]
  },
  {
   "cell_type": "code",
   "execution_count": null,
   "id": "e3aa3b5f-72e4-4398-919b-c578330ae2a0",
   "metadata": {},
   "outputs": [],
   "source": [
    "# print(report_text) # for testing the output without writing to file"
   ]
  },
  {
   "cell_type": "code",
   "execution_count": null,
   "id": "0c512502-4dea-48b4-8682-86bdcf22faa6",
   "metadata": {},
   "outputs": [],
   "source": [
    "# open file in write mode and write contents of string to file, then close file\n",
    "open_report = open(\"report.txt\",\"w\")\n",
    "open_report.write(str(report_text))\n",
    "open_report.close()"
   ]
  },
  {
   "cell_type": "code",
   "execution_count": null,
   "id": "4ee7258d-709d-4c74-8c54-4ab293c58bcd",
   "metadata": {},
   "outputs": [],
   "source": [
    "print(\"saved to file as report.txt\")"
   ]
  },
  {
   "cell_type": "code",
   "execution_count": null,
   "id": "c7265bc9-a72a-4188-9752-bad0450de1e0",
   "metadata": {},
   "outputs": [],
   "source": []
  }
 ],
 "metadata": {
  "kernelspec": {
   "display_name": "Python 3 (ipykernel)",
   "language": "python",
   "name": "python3"
  },
  "language_info": {
   "codemirror_mode": {
    "name": "ipython",
    "version": 3
   },
   "file_extension": ".py",
   "mimetype": "text/x-python",
   "name": "python",
   "nbconvert_exporter": "python",
   "pygments_lexer": "ipython3",
   "version": "3.9.7"
  }
 },
 "nbformat": 4,
 "nbformat_minor": 5
}
