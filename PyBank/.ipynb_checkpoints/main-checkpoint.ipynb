{
 "cells": [
  {
   "cell_type": "code",
   "execution_count": 1,
   "id": "c9026b8b-2c8a-4ae3-a894-18650e05f3b1",
   "metadata": {
    "tags": []
   },
   "outputs": [],
   "source": [
    "import csv"
   ]
  },
  {
   "cell_type": "code",
   "execution_count": 2,
   "id": "2a343957-137d-419c-b655-b36b72f32262",
   "metadata": {
    "tags": []
   },
   "outputs": [],
   "source": [
    "months = []\n",
    "month_max = \"\"\n",
    "month_min = \"\"\n",
    "delta_max = 0\n",
    "delta_min = 0\n",
    "net = 0"
   ]
  },
  {
   "cell_type": "code",
   "execution_count": 3,
   "id": "2d1f875a-dfeb-4224-bf5d-2835091d7d64",
   "metadata": {
    "tags": []
   },
   "outputs": [],
   "source": [
    "budget_data = open('budget_data.csv')\n",
    "type(budget_data)\n",
    "csvreader = csv.reader(budget_data)"
   ]
  },
  {
   "cell_type": "code",
   "execution_count": 4,
   "id": "532b3207-6744-4899-8a4b-3fbb9da0451d",
   "metadata": {
    "tags": []
   },
   "outputs": [],
   "source": [
    "header = []\n",
    "header = next(csvreader)"
   ]
  },
  {
   "cell_type": "code",
   "execution_count": 5,
   "id": "e00b47c3-0d9f-4cc1-8d0a-29dc4104a0ff",
   "metadata": {
    "tags": []
   },
   "outputs": [],
   "source": [
    "rows = []\n",
    "for row in csvreader:\n",
    "    rows.append(row)"
   ]
  },
  {
   "cell_type": "code",
   "execution_count": 6,
   "id": "f477dbdc-6d2f-483d-9f15-b5e64f851b4d",
   "metadata": {
    "tags": []
   },
   "outputs": [],
   "source": [
    "for r in rows:\n",
    "    months.append(r[0])\n",
    "    net += float(r[1])\n",
    "\n",
    "    if int(r[1]) > int(delta_max):\n",
    "        month_max = r[0]\n",
    "        delta_max = int(r[1])\n",
    "\n",
    "    elif int(r[1]) < int(delta_min):\n",
    "        month_min = r[0]\n",
    "        delta_min = int(r[1])"
   ]
  },
  {
   "cell_type": "code",
   "execution_count": 7,
   "id": "32e5b693-90bd-4d99-83f5-c59e0dadc853",
   "metadata": {
    "tags": []
   },
   "outputs": [],
   "source": [
    "number_of_months = len(rows)\n",
    "average = net / number_of_months"
   ]
  },
  {
   "cell_type": "code",
   "execution_count": 8,
   "id": "1e13dae5-cd15-4558-a051-88b16d54a494",
   "metadata": {
    "tags": []
   },
   "outputs": [],
   "source": [
    "budget_data.close()"
   ]
  },
  {
   "cell_type": "code",
   "execution_count": 9,
   "id": "518de0dc-20dc-4486-a629-408a6442e9c4",
   "metadata": {
    "tags": []
   },
   "outputs": [],
   "source": [
    "report_data = (number_of_months,net,average,delta_max,delta_min)"
   ]
  },
  {
   "cell_type": "code",
   "execution_count": 10,
   "id": "48b2a405-2861-4c23-9347-5c539f677838",
   "metadata": {
    "tags": []
   },
   "outputs": [],
   "source": [
    "def print_to_terminal(report_data):\n",
    "    print(\"Financial Analysis\")\n",
    "    print(\"----------------------------\")\n",
    "    print(f\"Total Months: {number_of_months}\")\n",
    "    print(f\"Total: ${int(net)}\")\n",
    "    print(f\"Average  Change: ${average:.2f}\")\n",
    "    print(f\"Greatest Increase in Profits: {month_max} (${delta_max})\")\n",
    "    print(f\"Greatest Decrease in Profits: {month_min} (${delta_min})\")\n"
   ]
  },
  {
   "cell_type": "code",
   "execution_count": 11,
   "id": "054cbfbf-7b64-44f8-9021-c8ab192eeda4",
   "metadata": {
    "tags": []
   },
   "outputs": [],
   "source": [
    "def write_to_file(report_data):\n",
    "    f = open(\"Financial-Analysis.txt\",\"w\")\n",
    "    f.write(\"Financial Analysis\\n\")\n",
    "    f.write(\"----------------------------\\n\")\n",
    "    f.write(f\"Total Months: {number_of_months}\\n\")\n",
    "    f.write(f\"Total: ${int(net)}\\n\")\n",
    "    f.write(f\"Average  Change: ${average:.2f}\\n\")\n",
    "    f.write(f\"Greatest Increase in Profits: {month_max} (${delta_max})\\n\")\n",
    "    f.write(f\"Greatest Decrease in Profits: {month_min} (${delta_min})\\n\") \n",
    "    f.close()"
   ]
  },
  {
   "cell_type": "code",
   "execution_count": 12,
   "id": "74d9580c-6b90-40ab-99ba-a1526a3d8409",
   "metadata": {
    "tags": []
   },
   "outputs": [
    {
     "name": "stdout",
     "output_type": "stream",
     "text": [
      "Financial Analysis\n",
      "----------------------------\n",
      "Total Months: 86\n",
      "Total: $38382578\n",
      "Average  Change: $446309.05\n",
      "Greatest Increase in Profits: Feb-2012 ($1170593)\n",
      "Greatest Decrease in Profits: Sep-2013 ($-1196225)\n"
     ]
    }
   ],
   "source": [
    "print_to_terminal(report_data)"
   ]
  },
  {
   "cell_type": "code",
   "execution_count": 13,
   "id": "bb5c3ec3-038f-4e4a-811c-ca661d7354ff",
   "metadata": {
    "tags": []
   },
   "outputs": [],
   "source": [
    "write_to_file(report_data)"
   ]
  }
 ],
 "metadata": {
  "kernelspec": {
   "display_name": "Python 3 (ipykernel)",
   "language": "python",
   "name": "python3"
  },
  "language_info": {
   "codemirror_mode": {
    "name": "ipython",
    "version": 3
   },
   "file_extension": ".py",
   "mimetype": "text/x-python",
   "name": "python",
   "nbconvert_exporter": "python",
   "pygments_lexer": "ipython3",
   "version": "3.9.7"
  }
 },
 "nbformat": 4,
 "nbformat_minor": 5
}
